{
 "cells": [
  {
   "cell_type": "code",
   "execution_count": null,
   "id": "5e6ab792",
   "metadata": {},
   "outputs": [],
   "source": [
    "# Plotting Charts using Matplotlib"
   ]
  },
  {
   "cell_type": "code",
   "execution_count": null,
   "id": "cb2474cc",
   "metadata": {},
   "outputs": [],
   "source": [
    "import matplotlib.pyplot as plt\n",
    "plt.plot([1, 2, 3], [4, 5, 6])\n",
    "plt.show()\n"
   ]
  },
  {
   "cell_type": "code",
   "execution_count": null,
   "id": "58d907c6",
   "metadata": {},
   "outputs": [],
   "source": [
    "years = [1990, 1992, 1994, 1996, 1998, 2000, 2003, 2005, 2007, 2010]\n",
    "runs =  [500, 700, 1100, 1500, 1800, 1200, 1700, 1300, 900, 1500]\n",
    "\n",
    "plt.plot(years, runs)\n",
    "plt.show()\n",
    "\n",
    "\n",
    "plt.plot(years, runs)\n",
    "plt.xlabel(\"Year\")\n",
    "plt.ylabel(\"Runs Scored\")\n",
    "plt.title(\"Sachin Tendulkar's Yearly Runs\")\n",
    "plt.show()"
   ]
  },
  {
   "cell_type": "code",
   "execution_count": null,
   "id": "080cd044",
   "metadata": {},
   "outputs": [],
   "source": [
    "kohli = [0, 0, 500, 800, 1100, 1300, 1500, 1800, 1900, 2100]\n",
    "sehwag = [0, 300, 800, 1200, 1500, 1700, 1600, 1400, 1000, 0]\n",
    "\n",
    "plt.plot(years, kohli, label=\"Virat Kohli\")\n",
    "plt.plot(years, sehwag, label=\"Virender Sehwag\")\n",
    "\n",
    "plt.xlabel(\"Year\")\n",
    "plt.ylabel(\"Runs Scored\")\n",
    "plt.title(\"Performance Comparison\")\n",
    "plt.legend()\n",
    "plt.show()\n",
    "\n",
    "plt.plot(years, kohli, label=\"Kohli\")\n",
    "plt.plot(years, sehwag, label=\"Sehwag\")\n",
    "plt.legend()"
   ]
  },
  {
   "cell_type": "code",
   "execution_count": null,
   "id": "3e256bdf",
   "metadata": {},
   "outputs": [],
   "source": [
    "plt.plot(years, kohli, 'ro--', label=\"Kohli\")  # red circles with dashed lines\n",
    "plt.plot(years, sehwag, 'g^:', label=\"Sehwag\")  # green triangles dotted\n",
    "plt.legend()\n",
    "plt.plot(years, kohli, color='orange', linestyle='--', label=\"Kohli\")\n",
    "plt.plot(years, sehwag, color='green', linestyle='-.', label=\"Sehwag\")\n",
    "plt.plot(years, runs, color='blue', label=\"Tendulkar\")\n",
    "plt.legend()\n",
    "plt.plot(years, kohli, color='orange', linestyle='--', label=\"Kohli\")\n",
    "plt.plot(years, sehwag, color='green', linestyle='-.', label=\"Sehwag\")\n",
    "plt.plot(years, runs, color='blue', label=\"Tendulkar\")\n",
    "plt.legend()"
   ]
  }
 ],
 "metadata": {
  "language_info": {
   "name": "python"
  }
 },
 "nbformat": 4,
 "nbformat_minor": 5
}
