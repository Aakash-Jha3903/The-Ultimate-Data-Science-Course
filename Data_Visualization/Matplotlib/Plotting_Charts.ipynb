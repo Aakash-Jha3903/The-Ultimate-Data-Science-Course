{
 "cells": [
  {
   "cell_type": "code",
   "execution_count": null,
   "id": "5e6ab792",
   "metadata": {},
   "outputs": [],
   "source": [
    "# Plotting Charts using Matplotlib"
   ]
  },
  {
   "cell_type": "code",
   "execution_count": null,
   "id": "cb2474cc",
   "metadata": {},
   "outputs": [],
   "source": [
    "import matplotlib.pyplot as plt\n",
    "plt.plot([1, 2, 3], [4, 5, 6])\n",
    "plt.show()\n"
   ]
  },
  {
   "cell_type": "code",
   "execution_count": null,
   "id": "58d907c6",
   "metadata": {},
   "outputs": [
    {
     "ename": "NameError",
     "evalue": "name 'plt' is not defined",
     "output_type": "error",
     "traceback": [
      "\u001b[1;31m---------------------------------------------------------------------------\u001b[0m",
      "\u001b[1;31mNameError\u001b[0m                                 Traceback (most recent call last)",
      "Cell \u001b[1;32mIn[1], line 4\u001b[0m\n\u001b[0;32m      1\u001b[0m years \u001b[38;5;241m=\u001b[39m [\u001b[38;5;241m1990\u001b[39m, \u001b[38;5;241m1992\u001b[39m, \u001b[38;5;241m1994\u001b[39m, \u001b[38;5;241m1996\u001b[39m, \u001b[38;5;241m1998\u001b[39m, \u001b[38;5;241m2000\u001b[39m, \u001b[38;5;241m2003\u001b[39m, \u001b[38;5;241m2005\u001b[39m, \u001b[38;5;241m2007\u001b[39m, \u001b[38;5;241m2010\u001b[39m]\n\u001b[0;32m      2\u001b[0m runs \u001b[38;5;241m=\u001b[39m  [\u001b[38;5;241m500\u001b[39m, \u001b[38;5;241m700\u001b[39m, \u001b[38;5;241m1100\u001b[39m, \u001b[38;5;241m1500\u001b[39m, \u001b[38;5;241m1800\u001b[39m, \u001b[38;5;241m1200\u001b[39m, \u001b[38;5;241m1700\u001b[39m, \u001b[38;5;241m1300\u001b[39m, \u001b[38;5;241m900\u001b[39m, \u001b[38;5;241m1500\u001b[39m]\n\u001b[1;32m----> 4\u001b[0m plt\u001b[38;5;241m.\u001b[39mplot(years, runs)\n\u001b[0;32m      5\u001b[0m plt\u001b[38;5;241m.\u001b[39mshow()\n\u001b[0;32m      8\u001b[0m plt\u001b[38;5;241m.\u001b[39mplot(years, runs)\n",
      "\u001b[1;31mNameError\u001b[0m: name 'plt' is not defined"
     ]
    }
   ],
   "source": [
    "years = [1990, 1992, 1994, 1996, 1998, 2000, 2003, 2005, 2007, 2010]\n",
    "runs =  [500, 700, 1100, 1500, 1800, 1200, 1700, 1300, 900, 1500]\n",
    "\n",
    "plt.plot(years, runs)\n",
    "plt.show()\n",
    "\n",
    "\n",
    "plt.plot(years, runs)\n",
    "plt.xlabel(\"Year\")\n",
    "plt.ylabel(\"Runs Scored\")\n",
    "plt.title(\"Sachin Tendulkar's Yearly Runs\")\n",
    "plt.show()"
   ]
  },
  {
   "cell_type": "code",
   "execution_count": null,
   "id": "080cd044",
   "metadata": {},
   "outputs": [],
   "source": [
    "kohli = [0, 0, 500, 800, 1100, 1300, 1500, 1800, 1900, 2100]\n",
    "sehwag = [0, 300, 800, 1200, 1500, 1700, 1600, 1400, 1000, 0]\n",
    "\n",
    "plt.plot(years, kohli, label=\"Virat Kohli\")\n",
    "plt.plot(years, sehwag, label=\"Virender Sehwag\")\n",
    "\n",
    "plt.xlabel(\"Year\")\n",
    "plt.ylabel(\"Runs Scored\")\n",
    "plt.title(\"Performance Comparison\")\n",
    "plt.legend()\n",
    "plt.show()\n",
    "\n",
    "plt.plot(years, kohli, label=\"Kohli\")\n",
    "plt.plot(years, sehwag, label=\"Sehwag\")\n",
    "plt.legend()"
   ]
  },
  {
   "cell_type": "code",
   "execution_count": null,
   "id": "3e256bdf",
   "metadata": {},
   "outputs": [],
   "source": [
    "plt.plot(years, kohli, 'ro--', label=\"Kohli\")  # red circles with dashed lines\n",
    "plt.plot(years, sehwag, 'g^:', label=\"Sehwag\")  # green triangles dotted\n",
    "plt.legend()\n",
    "plt.plot(years, kohli, color='orange', linestyle='--', label=\"Kohli\")\n",
    "plt.plot(years, sehwag, color='green', linestyle='-.', label=\"Sehwag\")\n",
    "plt.plot(years, runs, color='blue', label=\"Tendulkar\")\n",
    "plt.legend()\n",
    "plt.plot(years, kohli, color='orange', linestyle='--', label=\"Kohli\")\n",
    "plt.plot(years, sehwag, color='green', linestyle='-.', label=\"Sehwag\")\n",
    "plt.plot(years, runs, color='blue', label=\"Tendulkar\")\n",
    "plt.legend()"
   ]
  },
  {
   "cell_type": "code",
   "execution_count": null,
   "id": "68c2627f",
   "metadata": {},
   "outputs": [],
   "source": [
    "# Using Styles in Matplotlib\n",
    "print(plt.style.available)\n",
    "plt.style.use(\"ggplot\")\n",
    "# or\n",
    "plt.style.use(\"seaborn-v0_8-bright\")\n",
    "with plt.xkcd():\n",
    "    plt.plot(years, kohli, label=\"Kohli\")\n",
    "    plt.plot(years, sehwag, label=\"Sehwag\")\n",
    "    plt.title(\"Epic Battle of the Batsmen\")\n",
    "    plt.legend()\n",
    "    plt.show()\n",
    "\n",
    "import numpy as np\n",
    "\n",
    "for i in range(50):\n",
    "    plt.plot(np.random.rand(100), linewidth=1)\n",
    "\n",
    "plt.title(\"Too Much Data Can Be Confusing!\")\n",
    "plt.grid(True)\n",
    "plt.tight_layout()\n",
    "plt.show()"
   ]
  }
 ],
 "metadata": {
  "kernelspec": {
   "display_name": "base",
   "language": "python",
   "name": "python3"
  },
  "language_info": {
   "codemirror_mode": {
    "name": "ipython",
    "version": 3
   },
   "file_extension": ".py",
   "mimetype": "text/x-python",
   "name": "python",
   "nbconvert_exporter": "python",
   "pygments_lexer": "ipython3",
   "version": "3.12.7"
  }
 },
 "nbformat": 4,
 "nbformat_minor": 5
}
