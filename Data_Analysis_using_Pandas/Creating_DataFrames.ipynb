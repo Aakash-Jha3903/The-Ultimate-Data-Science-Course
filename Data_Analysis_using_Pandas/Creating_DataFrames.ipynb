{
 "cells": [
  {
   "cell_type": "code",
   "execution_count": null,
   "id": "d0ede9cf",
   "metadata": {},
   "outputs": [
    {
     "name": "stdout",
     "output_type": "stream",
     "text": [
      "      Name  Age\n",
      "0    Alice   25\n",
      "1      Bob   30\n",
      "2  Charlie   35\n"
     ]
    }
   ],
   "source": [
    "# From Python Lists\n",
    "import pandas as pd\n",
    "\n",
    "data = [\n",
    "    [\"Alice\", 25],\n",
    "    [\"Bob\", 30],\n",
    "    [\"Charlie\", 35]\n",
    "]\n",
    "\n",
    "df = pd.DataFrame(data, columns=[\"Name\", \"Age\"])\n",
    "print(df)"
   ]
  },
  {
   "cell_type": "code",
   "execution_count": 4,
   "id": "6206235e",
   "metadata": {},
   "outputs": [],
   "source": [
    "# From Dictionary of Lists\n",
    "data = {\n",
    "    \"Name\": [\"Alice\", \"Bob\", \"Charlie\"],\n",
    "    \"Age\": [25, 30, 35]\n",
    "}\n",
    "\n",
    "df = pd.DataFrame(data)"
   ]
  },
  {
   "cell_type": "code",
   "execution_count": 5,
   "id": "f480e150",
   "metadata": {},
   "outputs": [],
   "source": [
    "# From NumPy Arrays\n",
    "import numpy as np\n",
    "\n",
    "arr = np.array([[1, 2], [3, 4]])\n",
    "df = pd.DataFrame(arr, columns=[\"A\", \"B\"])"
   ]
  },
  {
   "cell_type": "code",
   "execution_count": null,
   "id": "4637223e",
   "metadata": {},
   "outputs": [],
   "source": [
    "\n",
    "# From CSV Files\n",
    "df = pd.read_csv(\"data.csv\")\n",
    "pd.read_csv(\"data.csv\", usecols=[\"Name\", \"Age\"])"
   ]
  },
  {
   "cell_type": "code",
   "execution_count": null,
   "id": "b0e838cd",
   "metadata": {},
   "outputs": [
    {
     "data": {
      "text/plain": [
       "'pip install openpyxl'"
      ]
     },
     "execution_count": 8,
     "metadata": {},
     "output_type": "execute_result"
    }
   ],
   "source": [
    "# From Excel Files\n",
    "\"\"\"pip install openpyxl\"\"\"\n",
    "df = pd.read_excel(\"data.xlsx\")"
   ]
  },
  {
   "cell_type": "code",
   "execution_count": null,
   "id": "478475f6",
   "metadata": {},
   "outputs": [],
   "source": [
    "# From JSON\n",
    "df = pd.read_json(\"data.json\")"
   ]
  },
  {
   "cell_type": "code",
   "execution_count": null,
   "id": "3f0034ee",
   "metadata": {},
   "outputs": [],
   "source": [
    "# From SQL Databases\n",
    "import sqlite3\n",
    " \n",
    "conn = sqlite3.connect(\"mydb.sqlite\")\n",
    "df = pd.read_sql(\"SELECT * FROM users\", conn)"
   ]
  },
  {
   "cell_type": "code",
   "execution_count": null,
   "id": "900a488e",
   "metadata": {},
   "outputs": [],
   "source": [
    "# From the Web (Example: CSV from URL)\n",
    "url = \"https://raw.githubusercontent.com/mwaskom/seaborn-data/master/tips.csv\"\n",
    "df = pd.read_csv(url)"
   ]
  }
 ],
 "metadata": {
  "kernelspec": {
   "display_name": "base",
   "language": "python",
   "name": "python3"
  },
  "language_info": {
   "codemirror_mode": {
    "name": "ipython",
    "version": 3
   },
   "file_extension": ".py",
   "mimetype": "text/x-python",
   "name": "python",
   "nbconvert_exporter": "python",
   "pygments_lexer": "ipython3",
   "version": "3.12.7"
  }
 },
 "nbformat": 4,
 "nbformat_minor": 5
}
